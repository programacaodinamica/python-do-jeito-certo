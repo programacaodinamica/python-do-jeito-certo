{
  "nbformat": 4,
  "nbformat_minor": 0,
  "metadata": {
    "colab": {
      "name": "Revisão Aula 2.ipynb",
      "provenance": [],
      "authorship_tag": "ABX9TyNLR+9UovlUolJziQlKjyze",
      "include_colab_link": true
    },
    "kernelspec": {
      "name": "python3",
      "display_name": "Python 3"
    }
  },
  "cells": [
    {
      "cell_type": "markdown",
      "metadata": {
        "id": "view-in-github",
        "colab_type": "text"
      },
      "source": [
        "<a href=\"https://colab.research.google.com/github/programacaodinamica/python-do-jeito-certo/blob/main/aulas/Revis%C3%A3o_Aula_2.ipynb\" target=\"_parent\"><img src=\"https://colab.research.google.com/assets/colab-badge.svg\" alt=\"Open In Colab\"/></a>"
      ]
    },
    {
      "cell_type": "markdown",
      "metadata": {
        "id": "ldOQrSEvceGo"
      },
      "source": [
        "# Python do Jeito Certo - Aula 2 - 20 de outubro de 2020"
      ]
    },
    {
      "cell_type": "markdown",
      "metadata": {
        "id": "TlxLF3Tqcl5G"
      },
      "source": [
        "# 8. Repetições Condicionais"
      ]
    },
    {
      "cell_type": "code",
      "metadata": {
        "id": "Lihb5SRCca-T"
      },
      "source": [
        "# Enquanto a condição for verdadeira, repita\n",
        "while"
      ],
      "execution_count": null,
      "outputs": []
    },
    {
      "cell_type": "markdown",
      "metadata": {
        "id": "42VBlbSRjKEq"
      },
      "source": [
        "# 9. Listas de dados\n",
        "\n",
        "*   Acessar itens individuais\n",
        "*   Indices invalidos e negativos\n",
        "*   Modificar valores na lista\n",
        "*   Filtrar valores em listas\n",
        "\n",
        "\n"
      ]
    },
    {
      "cell_type": "code",
      "metadata": {
        "id": "fUzwg0U7jRW2"
      },
      "source": [
        "# Múltiplas idades\n",
        "[12, 8, 87, 43, 9, 23]\n",
        "\n",
        "# Pessoas e datas de Nascimento\n",
        "pessoas = ['João', 'Maria', 'Enzo', 'Rebeca', 'Valentim', 'Severina']\n",
        "anos = [1968, 1942, 2020, 1970, 2013, 1999]"
      ],
      "execution_count": null,
      "outputs": []
    },
    {
      "cell_type": "markdown",
      "metadata": {
        "id": "zghSzfg8rlri"
      },
      "source": [
        "# Repetições Definidas (FOR)\n",
        "* Iterar sobre a lista\n",
        "* Filtrar lista\n",
        "* Iterar sobre strings"
      ]
    },
    {
      "cell_type": "code",
      "metadata": {
        "id": "trHptJ6PrZSM"
      },
      "source": [
        ""
      ],
      "execution_count": null,
      "outputs": []
    },
    {
      "cell_type": "markdown",
      "metadata": {
        "id": "LkqWESOElDQf"
      },
      "source": [
        "## 9.1 Pedindo uma Lista\n",
        "\n",
        "*   Pedir no input (while ou for)\n",
        "*   Adicionar com append\n",
        "\n"
      ]
    },
    {
      "cell_type": "code",
      "metadata": {
        "id": "IgbJelX2qAtt",
        "outputId": "e410abc3-6352-4593-a455-09ade8544485",
        "colab": {
          "base_uri": "https://localhost:8080/",
          "height": 35
        }
      },
      "source": [
        ""
      ],
      "execution_count": null,
      "outputs": [
        {
          "output_type": "execute_result",
          "data": {
            "text/plain": [
              "7"
            ]
          },
          "metadata": {
            "tags": []
          },
          "execution_count": 4
        }
      ]
    },
    {
      "cell_type": "markdown",
      "metadata": {
        "id": "b0ldacr4nKkg"
      },
      "source": [
        "# 10. Strings\n",
        "\n",
        "*   Acessar caracteres da string\n",
        "*   Iterar sobre a string\n",
        "*   Cifra de César\n",
        "*   Fazer split, strip, upper, lower na mão\n",
        "\n"
      ]
    },
    {
      "cell_type": "markdown",
      "metadata": {
        "id": "00bhJs02tXDM"
      },
      "source": [
        "Misc: tuplas, dicionários, enumerate?"
      ]
    },
    {
      "cell_type": "code",
      "metadata": {
        "id": "quPIu3UhtYaM",
        "outputId": "1d10cdaf-4874-4c72-bc6e-c8f7d428bb77",
        "colab": {
          "base_uri": "https://localhost:8080/",
          "height": 70
        }
      },
      "source": [
        "for i, k in enumerate(['a', 'b', 'c']):\n",
        "  print(k)"
      ],
      "execution_count": null,
      "outputs": [
        {
          "output_type": "stream",
          "text": [
            "a\n",
            "b\n",
            "c\n"
          ],
          "name": "stdout"
        }
      ]
    },
    {
      "cell_type": "code",
      "metadata": {
        "id": "7BTbz1_9tm64",
        "outputId": "c258de1c-7953-40b5-8b06-ef6bf5a46e80",
        "colab": {
          "base_uri": "https://localhost:8080/",
          "height": 52
        }
      },
      "source": [
        "pessoas = {'João Pedro': 28, 'Ninja louco': 72}\n",
        "for t in pessoas.values():\n",
        "  print(t)\n"
      ],
      "execution_count": null,
      "outputs": [
        {
          "output_type": "stream",
          "text": [
            "28\n",
            "72\n"
          ],
          "name": "stdout"
        }
      ]
    },
    {
      "cell_type": "code",
      "metadata": {
        "id": "tSjIjKvcq84Z",
        "outputId": "8866c664-6a9b-427f-869f-5e383c910c6a",
        "colab": {
          "base_uri": "https://localhost:8080/",
          "height": 123
        }
      },
      "source": [
        "# pedindo uma lista\n",
        "n = int(input('Quantos elementos? '))\n",
        "lista = []\n",
        "for i in range(n):\n",
        "  elemento = float(input(f'Digite o {i+1}º elemento: '))\n",
        "  lista.append(elemento)\n",
        "\n",
        "print(lista)"
      ],
      "execution_count": null,
      "outputs": [
        {
          "output_type": "stream",
          "text": [
            "Quantos elementos? 4\n",
            "Digite o 1º elemento: 54\n",
            "Digite o 2º elemento: 32\n",
            "Digite o 3º elemento: 87.3\n",
            "Digite o 4º elemento: 31.987\n",
            "[54.0, 32.0, 87.3, 31.987]\n"
          ],
          "name": "stdout"
        }
      ]
    },
    {
      "cell_type": "code",
      "metadata": {
        "id": "SzymkiWBr5Ef",
        "outputId": "a15d175f-0a93-4071-b987-d8fc41fcaf5d",
        "colab": {
          "base_uri": "https://localhost:8080/",
          "height": 35
        }
      },
      "source": [
        "numeros = [12, 56, 87, 23, 98, 54, 11, 7]\n",
        "pares = []\n",
        "for num in numeros:\n",
        "  if (num % 2) == 0:\n",
        "    pares.append(num)\n",
        "print(pares)"
      ],
      "execution_count": null,
      "outputs": [
        {
          "output_type": "stream",
          "text": [
            "[12, 56, 98, 54]\n"
          ],
          "name": "stdout"
        }
      ]
    },
    {
      "cell_type": "code",
      "metadata": {
        "id": "MvJk8YLssnO3",
        "outputId": "4aee1480-ecb6-4c51-bf2b-50a385efc883",
        "colab": {
          "base_uri": "https://localhost:8080/",
          "height": 52
        }
      },
      "source": [
        "print(13 in pares)\n",
        "print('d' in 'cabra')"
      ],
      "execution_count": null,
      "outputs": [
        {
          "output_type": "stream",
          "text": [
            "False\n",
            "False\n"
          ],
          "name": "stdout"
        }
      ]
    },
    {
      "cell_type": "code",
      "metadata": {
        "id": "jBSqXt1esS56",
        "outputId": "32b615b1-0459-498c-97fe-945b00dfdd7c",
        "colab": {
          "base_uri": "https://localhost:8080/",
          "height": 35
        }
      },
      "source": [
        "frase = \"o rato roeu a roupa do rei\"\n",
        "semvogais = \"\"\n",
        "for c in frase:\n",
        "  if not c in 'aeiou':\n",
        "    semvogais = semvogais + c\n",
        "\n",
        "print(semvogais)"
      ],
      "execution_count": null,
      "outputs": [
        {
          "output_type": "stream",
          "text": [
            " rt r  rp d r\n"
          ],
          "name": "stdout"
        }
      ]
    },
    {
      "cell_type": "markdown",
      "metadata": {
        "id": "Met6OxqRdzug"
      },
      "source": [
        "# Exercícios\n",
        "\n",
        "1. Faça um programa que recebe uma lista de números reais e exibe o seu maior elemento.\n",
        "\n",
        "2. Faça um programa que recebe uma lista de números reais e exibe sua média.\n",
        "\n",
        "\n",
        "3. Dada uma lista de números inteiros, faça um programa que responda a soma de todos os números pares na lista e o produto de todos os números ímpares.\n",
        "\n",
        "4. Faça um programa que receba um número e exiba o [fatorial](https://pt.wikipedia.org/wiki/Fatorial) desse número.\n",
        "\n",
        "5. Dada uma lista de números inteiros e um número inteiro desejado, responder qual o índice deste número na lista.\n",
        "\n",
        "6. Faça um programa que verifique se uma string possui caracteres duplicados.\n",
        "\n",
        "7. Faça um programa que receba uma string que seja uma combinação dos seguintes caracteres: '-', 'a', 't', 'c', 'g'. Eles podem aparecer em qualquer ordem e múltiplas vezes, por exemplo:\n",
        "'---agcatg-c-c-a-ttt--'\n",
        "A saída do programa deve ser:\n",
        "\n",
        "  7a) A string de entrada sem os '-' do início. No caso do exemplo: 'agcatg-c-c-a-ttt--'\n",
        "\n",
        "  7b) A string de entrada sem os '-' do final. No caso do exemplo: '---agcatg-c-c-a-ttt'\n",
        "\n",
        "  7c) A string de entrada sem os '-' início e do final. No caso do exemplo: 'agcatg-c-c-a-ttt'\n",
        "\n",
        "## Mini Projetos\n",
        "\n",
        "#### MP3 Implemente um jogo da forca.\n",
        "\n",
        "#### MP4 Implemente um jogo da velha.\n"
      ]
    }
  ]
}