{
  "nbformat": 4,
  "nbformat_minor": 0,
  "metadata": {
    "colab": {
      "name": "PJC_aula2.ipynb",
      "provenance": [],
      "authorship_tag": "ABX9TyMkEWBb0T5WVcrRG/eqV1qW",
      "include_colab_link": true
    },
    "kernelspec": {
      "name": "python3",
      "display_name": "Python 3"
    }
  },
  "cells": [
    {
      "cell_type": "markdown",
      "metadata": {
        "id": "view-in-github",
        "colab_type": "text"
      },
      "source": [
        "<a href=\"https://colab.research.google.com/github/programacaodinamica/python-do-jeito-certo/blob/main/aulas/PJC_aula2.ipynb\" target=\"_parent\"><img src=\"https://colab.research.google.com/assets/colab-badge.svg\" alt=\"Open In Colab\"/></a>"
      ]
    },
    {
      "cell_type": "markdown",
      "metadata": {
        "id": "SitczsaGU4GL"
      },
      "source": [
        "# 8. Repetições (Iterações) Condicionais"
      ]
    },
    {
      "cell_type": "code",
      "metadata": {
        "id": "GbqVZqIQUxb-",
        "outputId": "4e904882-debb-41e9-ff9e-5ecb5dc12b2d",
        "colab": {
          "base_uri": "https://localhost:8080/",
          "height": 159
        }
      },
      "source": [
        "# Enquanto for verdade, repete\n",
        "numero = 7\n",
        "while numero > 0:\n",
        "  print(numero)\n",
        "  numero = numero - 1\n",
        "print(\"Acabou de repetir\")"
      ],
      "execution_count": 2,
      "outputs": [
        {
          "output_type": "stream",
          "text": [
            "7\n",
            "6\n",
            "5\n",
            "4\n",
            "3\n",
            "2\n",
            "1\n",
            "Acabou de repetir\n"
          ],
          "name": "stdout"
        }
      ]
    },
    {
      "cell_type": "code",
      "metadata": {
        "id": "Nybn2F0hXLeh",
        "outputId": "90ad04c0-6b7b-4d1e-f48c-89c445b5d15b",
        "colab": {
          "base_uri": "https://localhost:8080/",
          "height": 70
        }
      },
      "source": [
        "# Podemos aplicar ao nosso programa\n",
        "repetir = True \n",
        "while repetir:\n",
        "  idade = input('Digite sua idade: ')\n",
        "  idade = int(idade)\n",
        "\n",
        "  if idade >= 18 and idade < 70:\n",
        "    print(f'Com {idade} anos, seu voto é obrigatório!')\n",
        "  elif idade >= 16:\n",
        "    print(f'Com {idade} anos, seu voto é facultativo!')\n",
        "  else:\n",
        "    print(f'Com {idade} anos, você NÃO pode votar!')\n",
        "\n",
        "  resposta = input('Deseja repetir? (s/n)')\n",
        "  if resposta == 'n' or resposta == 'N':\n",
        "    repetir = False"
      ],
      "execution_count": 5,
      "outputs": [
        {
          "output_type": "stream",
          "text": [
            "Digite sua idade: 234567\n",
            "Com 234567 anos, seu voto é facultativo!\n",
            "Deseja repetir? (s/n)N\n"
          ],
          "name": "stdout"
        }
      ]
    },
    {
      "cell_type": "markdown",
      "metadata": {
        "id": "yZDJLjrFbkOB"
      },
      "source": [
        "## 9 Listas de Dados"
      ]
    },
    {
      "cell_type": "code",
      "metadata": {
        "id": "eJKxP-0ObrOa",
        "outputId": "bbbc8225-55c7-480a-bbbf-ffef9d2c6d33",
        "colab": {
          "base_uri": "https://localhost:8080/",
          "height": 88
        }
      },
      "source": [
        "# lista com vários números (idades)\n",
        "idades = [12, 47, 78, 8, 18]\n",
        "# os valores não precisam ser do mesmo tipo \n",
        "miscelanea = [15, 'biscoito', True, \"teste\", 67.9, '78']\n",
        "print(idades[3])\n",
        "print(miscelanea[1])\n",
        "\n",
        "# pode modificar um valor na lista\n",
        "idades[3] = 25\n",
        "print(idades[3])\n",
        "# adicionar elemento ao final lista\n",
        "idades.append(77)\n",
        "print(idades)"
      ],
      "execution_count": 23,
      "outputs": [
        {
          "output_type": "stream",
          "text": [
            "8\n",
            "biscoito\n",
            "25\n",
            "[12, 47, 78, 25, 18, 77]\n"
          ],
          "name": "stdout"
        }
      ]
    },
    {
      "cell_type": "code",
      "metadata": {
        "id": "l3HKI69-dgNb",
        "outputId": "112b9956-6868-4535-9136-c7a56ff5307f",
        "colab": {
          "base_uri": "https://localhost:8080/",
          "height": 35
        }
      },
      "source": [
        "# pode fazer lista de listas (matrizes)\n",
        "lista_de_lista = [[7, 9, 5]]\n",
        "print(lista_de_lista[0][1])"
      ],
      "execution_count": 24,
      "outputs": [
        {
          "output_type": "stream",
          "text": [
            "9\n"
          ],
          "name": "stdout"
        }
      ]
    },
    {
      "cell_type": "code",
      "metadata": {
        "id": "DONf3Xt5e6DI",
        "outputId": "960cde14-8ce3-4ea8-83e0-6d11679a7fc9",
        "colab": {
          "base_uri": "https://localhost:8080/",
          "height": 88
        }
      },
      "source": [
        "# concatenando listas\n",
        "print(idades + [88, 12])\n",
        "print(idades)\n",
        "\n",
        "# replicando valores na lista\n",
        "lista12 = [2] * 12\n",
        "print(lista12)\n",
        "print(lista12[4])"
      ],
      "execution_count": 25,
      "outputs": [
        {
          "output_type": "stream",
          "text": [
            "[12, 47, 78, 25, 18, 77, 88, 12]\n",
            "[12, 47, 78, 25, 18, 77]\n",
            "[2, 2, 2, 2, 2, 2, 2, 2, 2, 2, 2, 2]\n",
            "2\n"
          ],
          "name": "stdout"
        }
      ]
    },
    {
      "cell_type": "code",
      "metadata": {
        "id": "gP-VzR-QfYYL",
        "outputId": "b474724c-fb9d-4d36-b15c-24c28700df2c",
        "colab": {
          "base_uri": "https://localhost:8080/",
          "height": 35
        }
      },
      "source": [
        "numero = 0\n",
        "# lista vazia\n",
        "numeros = []\n",
        "# preenchendo a lista\n",
        "while numero < 7:\n",
        "  numeros.append(numero)\n",
        "  numero = numero + 2\n",
        "print(numeros)"
      ],
      "execution_count": 26,
      "outputs": [
        {
          "output_type": "stream",
          "text": [
            "[0, 2, 4, 6]\n"
          ],
          "name": "stdout"
        }
      ]
    },
    {
      "cell_type": "markdown",
      "metadata": {
        "id": "tZ3FGAedhYum"
      },
      "source": [
        "# 10. Iterações Definidas (for)"
      ]
    },
    {
      "cell_type": "code",
      "metadata": {
        "id": "LwQ1wj7-hb0r",
        "outputId": "070cf015-7f6e-48ce-b006-6824c16a8742",
        "colab": {
          "base_uri": "https://localhost:8080/",
          "height": 106
        }
      },
      "source": [
        "idades = [12, 47, 78, 8, 18]\n",
        "# variável idade assume valores na lista idades\n",
        "for idade in idades:\n",
        "  print(idade + 2)"
      ],
      "execution_count": 28,
      "outputs": [
        {
          "output_type": "stream",
          "text": [
            "14\n",
            "49\n",
            "80\n",
            "10\n",
            "20\n"
          ],
          "name": "stdout"
        }
      ]
    },
    {
      "cell_type": "code",
      "metadata": {
        "id": "nH84cMmqiamx",
        "outputId": "e8a24279-d759-4b95-c6e8-78f69c01da5d",
        "colab": {
          "base_uri": "https://localhost:8080/",
          "height": 106
        }
      },
      "source": [
        "for idade in idades:\n",
        "  if idade >= 18 and idade < 70:\n",
        "    print(f'Com {idade} anos, seu voto é obrigatório!')\n",
        "  elif idade >= 16:\n",
        "    print(f'Com {idade} anos, seu voto é facultativo!')\n",
        "  else:\n",
        "    print(f'Com {idade} anos, você NÃO pode votar!')"
      ],
      "execution_count": 29,
      "outputs": [
        {
          "output_type": "stream",
          "text": [
            "Com 12 anos, você NÃO pode votar!\n",
            "Com 47 anos, seu voto é obrigatório!\n",
            "Com 78 anos, seu voto é facultativo!\n",
            "Com 8 anos, você NÃO pode votar!\n",
            "Com 18 anos, seu voto é obrigatório!\n"
          ],
          "name": "stdout"
        }
      ]
    },
    {
      "cell_type": "code",
      "metadata": {
        "id": "SlOEYnjLjK60",
        "outputId": "6dc854e6-6a46-4278-f6f7-82043c9a5573",
        "colab": {
          "base_uri": "https://localhost:8080/",
          "height": 141
        }
      },
      "source": [
        "idades = [12, 47, 78, 8, 18,]\n",
        "nomes = ['João', 'Maria', 'Severina', 'Pedro', 'Rebeca']\n",
        "\n",
        "for i in range(len(idades)):\n",
        "  print(f\"{nomes[i]} tem {idades[i]} anos\")"
      ],
      "execution_count": 49,
      "outputs": [
        {
          "output_type": "stream",
          "text": [
            "João tem 12 anos\n",
            "Maria tem 47 anos\n",
            "Severina tem 78 anos\n",
            "Pedro tem 8 anos\n",
            "Rebeca tem 18 anos\n",
            "Jonas tem 43 anos\n",
            "Rafaela tem 3 anos\n"
          ],
          "name": "stdout"
        }
      ]
    },
    {
      "cell_type": "code",
      "metadata": {
        "id": "bPHOR--4la8h",
        "outputId": "159158ea-c081-49eb-a160-7473ce6cb8cb",
        "colab": {
          "base_uri": "https://localhost:8080/",
          "height": 35
        }
      },
      "source": [
        "#length comprimento\n",
        "print(len(nomes)) "
      ],
      "execution_count": 45,
      "outputs": [
        {
          "output_type": "stream",
          "text": [
            "6\n"
          ],
          "name": "stdout"
        }
      ]
    },
    {
      "cell_type": "markdown",
      "metadata": {
        "id": "DyqZof9A1KGF"
      },
      "source": [
        "### Pedindo uma Lista"
      ]
    },
    {
      "cell_type": "code",
      "metadata": {
        "id": "98KzNxJ31L0Z"
      },
      "source": [
        "# pedindo uma lista\n",
        "n = int(input('Quantos elementos? '))\n",
        "lista = []\n",
        "for i in range(n):\n",
        "  elemento = float(input(f'Digite o {i+1}º elemento: '))\n",
        "  lista.append(elemento)\n",
        "\n",
        "print(lista)"
      ],
      "execution_count": null,
      "outputs": []
    },
    {
      "cell_type": "markdown",
      "metadata": {
        "id": "JjBt5Bn71NWk"
      },
      "source": [
        "## Experimente\n",
        "* Tente pedir uma lista com *while* ao invés de *for*"
      ]
    },
    {
      "cell_type": "markdown",
      "metadata": {
        "id": "vIG2_F_4mOr2"
      },
      "source": [
        "# 11. Algumas operações com Strings"
      ]
    },
    {
      "cell_type": "code",
      "metadata": {
        "id": "LLhU5ruEmLPl",
        "outputId": "3ec12f0a-29a6-4261-c489-0fcb6c3d44c9",
        "colab": {
          "base_uri": "https://localhost:8080/",
          "height": 70
        }
      },
      "source": [
        "frase = 'Em noite de lua cheia...'\n",
        "# que nem as listas!\n",
        "print(frase[0])\n",
        "print(frase[9])\n",
        "# índices negativos são válidos em Python (nas listas também)\n",
        "# acessam de trás pra frente\n",
        "print(frase[-4])"
      ],
      "execution_count": 52,
      "outputs": [
        {
          "output_type": "stream",
          "text": [
            "E\n",
            "d\n",
            "a\n"
          ],
          "name": "stdout"
        }
      ]
    },
    {
      "cell_type": "code",
      "metadata": {
        "id": "72UUA1uynMMb",
        "outputId": "7db36cdc-82a8-4aec-f473-c3d5b5f6ef11",
        "colab": {
          "base_uri": "https://localhost:8080/",
          "height": 240
        }
      },
      "source": [
        "lista = [12, 'China', '8']\n",
        "palavra = 'ninja'\n",
        "# listas são mutáveis\n",
        "lista[1] = 5\n",
        "print(lista)\n",
        "# strings são imutáveis\n",
        "palavra[1] = 'a'\n",
        "print(palavra)"
      ],
      "execution_count": 54,
      "outputs": [
        {
          "output_type": "stream",
          "text": [
            "[12, 5, '8']\n"
          ],
          "name": "stdout"
        },
        {
          "output_type": "error",
          "ename": "TypeError",
          "evalue": "ignored",
          "traceback": [
            "\u001b[0;31m---------------------------------------------------------------------------\u001b[0m",
            "\u001b[0;31mTypeError\u001b[0m                                 Traceback (most recent call last)",
            "\u001b[0;32m<ipython-input-54-dbae23f27e65>\u001b[0m in \u001b[0;36m<module>\u001b[0;34m()\u001b[0m\n\u001b[1;32m      3\u001b[0m \u001b[0mlista\u001b[0m\u001b[0;34m[\u001b[0m\u001b[0;36m1\u001b[0m\u001b[0;34m]\u001b[0m \u001b[0;34m=\u001b[0m \u001b[0;36m5\u001b[0m\u001b[0;34m\u001b[0m\u001b[0;34m\u001b[0m\u001b[0m\n\u001b[1;32m      4\u001b[0m \u001b[0mprint\u001b[0m\u001b[0;34m(\u001b[0m\u001b[0mlista\u001b[0m\u001b[0;34m)\u001b[0m\u001b[0;34m\u001b[0m\u001b[0;34m\u001b[0m\u001b[0m\n\u001b[0;32m----> 5\u001b[0;31m \u001b[0mpalavra\u001b[0m\u001b[0;34m[\u001b[0m\u001b[0;36m1\u001b[0m\u001b[0;34m]\u001b[0m \u001b[0;34m=\u001b[0m \u001b[0;34m'a'\u001b[0m\u001b[0;34m\u001b[0m\u001b[0;34m\u001b[0m\u001b[0m\n\u001b[0m\u001b[1;32m      6\u001b[0m \u001b[0mprint\u001b[0m\u001b[0;34m(\u001b[0m\u001b[0mpalavra\u001b[0m\u001b[0;34m)\u001b[0m\u001b[0;34m\u001b[0m\u001b[0;34m\u001b[0m\u001b[0m\n",
            "\u001b[0;31mTypeError\u001b[0m: 'str' object does not support item assignment"
          ]
        }
      ]
    },
    {
      "cell_type": "code",
      "metadata": {
        "id": "A6lAGE4Wm-7y",
        "outputId": "a2a0b5ad-3df1-4612-ece8-703c7732486a",
        "colab": {
          "base_uri": "https://localhost:8080/",
          "height": 442
        }
      },
      "source": [
        "# strings são iteráveis\n",
        "for c in frase:\n",
        "  print(c)"
      ],
      "execution_count": 53,
      "outputs": [
        {
          "output_type": "stream",
          "text": [
            "E\n",
            "m\n",
            " \n",
            "n\n",
            "o\n",
            "i\n",
            "t\n",
            "e\n",
            " \n",
            "d\n",
            "e\n",
            " \n",
            "l\n",
            "u\n",
            "a\n",
            " \n",
            "c\n",
            "h\n",
            "e\n",
            "i\n",
            "a\n",
            ".\n",
            ".\n",
            ".\n"
          ],
          "name": "stdout"
        }
      ]
    },
    {
      "cell_type": "markdown",
      "metadata": {
        "id": "C_FyajYy00-T"
      },
      "source": [
        "## Experimente\n",
        "\n",
        "* Tente usar a função *len* em uma string \n",
        "\n"
      ]
    },
    {
      "cell_type": "markdown",
      "metadata": {
        "id": "AlKokp-k1waw"
      },
      "source": [
        "### Filtrando listas e string"
      ]
    },
    {
      "cell_type": "code",
      "metadata": {
        "id": "ROwCDUMB1z7y",
        "outputId": "2cea16e3-0fdc-40da-a56c-26c5080109c3",
        "colab": {
          "base_uri": "https://localhost:8080/",
          "height": 35
        }
      },
      "source": [
        "# filtrando os números pares da lista\n",
        "numeros = [12, 56, 87, 23, 98, 54, 11, 7]\n",
        "pares = []\n",
        "for num in numeros:\n",
        "  if (num % 2) == 0:\n",
        "    pares.append(num)\n",
        "print(pares)"
      ],
      "execution_count": 56,
      "outputs": [
        {
          "output_type": "stream",
          "text": [
            "[12, 56, 98, 54]\n"
          ],
          "name": "stdout"
        }
      ]
    },
    {
      "cell_type": "code",
      "metadata": {
        "id": "IMFYQUUN1_7z"
      },
      "source": [
        "# in pode ser usado para avaliar se algo pertence à lista/string\n",
        "print(13 in pares)\n",
        "print('d' in 'cabra')"
      ],
      "execution_count": null,
      "outputs": []
    },
    {
      "cell_type": "code",
      "metadata": {
        "id": "Iwx6S5wX2MS3"
      },
      "source": [
        "# nova string sem caracteres que são vogais\n",
        "frase = \"o rato roeu a roupa do rei\"\n",
        "semvogais = \"\"\n",
        "for c in frase:\n",
        "  if not c in 'aeiou':\n",
        "    semvogais = semvogais + c\n",
        "\n",
        "print(semvogais)"
      ],
      "execution_count": null,
      "outputs": []
    },
    {
      "cell_type": "markdown",
      "metadata": {
        "id": "6-765SBs2VXD"
      },
      "source": [
        "## Experimente\n",
        "\n",
        "* Tente modificar o exemplo para funcionar com maiúsculas e minúsculas\n",
        "\n"
      ]
    },
    {
      "cell_type": "markdown",
      "metadata": {
        "id": "HHQrSmSI2hKP"
      },
      "source": [
        "# Exercícios\n",
        "\n",
        "1. Faça um programa que recebe uma lista de números reais e exibe o seu maior elemento.\n",
        "\n",
        "2. Faça um programa que recebe uma lista de números reais e exibe sua média.\n",
        "\n",
        "\n",
        "3. Dada uma lista de números inteiros, faça um programa que responda a soma de todos os números pares na lista e o produto de todos os números ímpares.\n",
        "\n",
        "4. Faça um programa que receba um número e exiba o [fatorial](https://pt.wikipedia.org/wiki/Fatorial) desse número.\n",
        "\n",
        "5. Dada uma lista de números inteiros e um número inteiro desejado, responder qual o índice deste número na lista.\n",
        "\n",
        "6. Faça um programa que verifique se uma string possui caracteres duplicados.\n",
        "\n",
        "7. Faça um programa que receba uma string que seja uma combinação dos seguintes caracteres: '-', 'a', 't', 'c', 'g'. Eles podem aparecer em qualquer ordem e múltiplas vezes, por exemplo:\n",
        "'---agcatg-c-c-a-ttt--'\n",
        "A saída do programa deve ser:\n",
        "\n",
        "  7a) A string de entrada sem os '-' do início. No caso do exemplo: 'agcatg-c-c-a-ttt--'\n",
        "\n",
        "  7b) A string de entrada sem os '-' do final. No caso do exemplo: '---agcatg-c-c-a-ttt'\n",
        "\n",
        "  7c) A string de entrada sem os '-' início e do final. No caso do exemplo: 'agcatg-c-c-a-ttt'\n",
        "\n",
        "## Mini Projetos\n",
        "\n",
        "#### P3 Implemente um jogo da forca.\n",
        "\n",
        "#### P4 Implemente um jogo da velha.\n"
      ]
    }
  ]
}