{
  "nbformat": 4,
  "nbformat_minor": 0,
  "metadata": {
    "colab": {
      "name": "PJC_aula1.ipynb",
      "provenance": [],
      "authorship_tag": "ABX9TyO72qSl6Po7/yJG/H2Gg45e",
      "include_colab_link": true
    },
    "kernelspec": {
      "name": "python3",
      "display_name": "Python 3"
    }
  },
  "cells": [
    {
      "cell_type": "markdown",
      "metadata": {
        "id": "view-in-github",
        "colab_type": "text"
      },
      "source": [
        "<a href=\"https://colab.research.google.com/github/programacaodinamica/python-do-jeito-certo/blob/main/aulas/PJC_aula1.ipynb\" target=\"_parent\"><img src=\"https://colab.research.google.com/assets/colab-badge.svg\" alt=\"Open In Colab\"/></a>"
      ]
    },
    {
      "cell_type": "markdown",
      "metadata": {
        "id": "PzgNUuSniR-4"
      },
      "source": [
        "# 1. Variáveis"
      ]
    },
    {
      "cell_type": "code",
      "metadata": {
        "id": "N2xAgDAWiL5n"
      },
      "source": [
        "# int:  inteiro/integer\n",
        "idade = 29\n",
        "\n",
        "# Ponto flutuante - floating point (float)\n",
        "preco = 33.50\n",
        "\n",
        "# str: - texto/string - vem de cadeia de caracteres (string [of characters])\n",
        "mensagem = \"o voto é obrigatório\"\n",
        "\n",
        "# bool: booleano/boolean - verdadeiro ou falso\n",
        "situacao_regular = True"
      ],
      "execution_count": 1,
      "outputs": []
    },
    {
      "cell_type": "markdown",
      "metadata": {
        "id": "GBZl8EiijmKV"
      },
      "source": [
        "# 2. Função print (imprimir) - Saída de Dados"
      ]
    },
    {
      "cell_type": "code",
      "metadata": {
        "id": "GmHJybNUjk8H",
        "outputId": "4064b0c5-30fa-4302-c5a7-e43c731521d8",
        "colab": {
          "base_uri": "https://localhost:8080/",
          "height": 108
        }
      },
      "source": [
        "# Use print para exibir na tela\n",
        "print(idade)\n",
        "print(preco)\n",
        "print(mensagem)\n",
        "print(situacao_regular)\n",
        "print(\"Em noite de lua cheia, enquanto o canguçu esturra, o guatipuru sobe na carapanaúba?\")"
      ],
      "execution_count": 2,
      "outputs": [
        {
          "output_type": "stream",
          "text": [
            "29\n",
            "33.5\n",
            "o voto é obrigatório\n",
            "True\n",
            "Em noite de lua cheia, enquanto o canguçu esturra, o guatipuru sobe na carapanaúba?\n"
          ],
          "name": "stdout"
        }
      ]
    },
    {
      "cell_type": "markdown",
      "metadata": {
        "id": "LV0AwS-fj-tu"
      },
      "source": [
        "## Experimente \n",
        "i. Tente mudar o valor das variáveis. É preciso executar novamente a célula alterada para que a mudança tenha efeito.\n",
        "\n",
        "ii. Tente exibir outros valores com a função print"
      ]
    },
    {
      "cell_type": "markdown",
      "metadata": {
        "id": "UvBVECOdkgWP"
      },
      "source": [
        "# 3 Operações com dados"
      ]
    },
    {
      "cell_type": "code",
      "metadata": {
        "id": "Sh3FzEZMkfxA",
        "outputId": "ce0f017c-0753-4b2c-90fe-423e66a3e33a",
        "colab": {
          "base_uri": "https://localhost:8080/",
          "height": 126
        }
      },
      "source": [
        "resposta = 42\n",
        "k = 5\n",
        "\n",
        "print(resposta + k)\n",
        "print(resposta * k)\n",
        "# repare a mudança de tipo\n",
        "print(resposta / k)\n",
        "# divisão inteira\n",
        "print(resposta // k)\n",
        "# resto da divisão inteira\n",
        "print(resposta % k)\n",
        "# potenciação\n",
        "print(resposta ** k)"
      ],
      "execution_count": 3,
      "outputs": [
        {
          "output_type": "stream",
          "text": [
            "47\n",
            "210\n",
            "8.4\n",
            "8\n",
            "2\n",
            "130691232\n"
          ],
          "name": "stdout"
        }
      ]
    },
    {
      "cell_type": "code",
      "metadata": {
        "id": "J80wu2YXltGH",
        "outputId": "9bbf4c9e-dc9c-406b-9ed9-e371f9abfc2c",
        "colab": {
          "base_uri": "https://localhost:8080/",
          "height": 35
        }
      },
      "source": [
        "texto1 = 'bicho'\n",
        "texto4 = 'cabeças'\n",
        "\n",
        "#concatenação\n",
        "print(texto1 + texto4)"
      ],
      "execution_count": 4,
      "outputs": [
        {
          "output_type": "stream",
          "text": [
            "bichocabeças\n"
          ],
          "name": "stdout"
        }
      ]
    },
    {
      "cell_type": "code",
      "metadata": {
        "id": "dpBZAs_FmnBX",
        "outputId": "55f6ea93-cde4-47c6-dc65-c7e500870049",
        "colab": {
          "base_uri": "https://localhost:8080/",
          "height": 191
        }
      },
      "source": [
        "# erro, tipos incompatíveis com a operação\n",
        "print(texto1 + k)"
      ],
      "execution_count": 5,
      "outputs": [
        {
          "output_type": "error",
          "ename": "TypeError",
          "evalue": "ignored",
          "traceback": [
            "\u001b[0;31m---------------------------------------------------------------------------\u001b[0m",
            "\u001b[0;31mTypeError\u001b[0m                                 Traceback (most recent call last)",
            "\u001b[0;32m<ipython-input-5-c9c491de58ea>\u001b[0m in \u001b[0;36m<module>\u001b[0;34m()\u001b[0m\n\u001b[1;32m      1\u001b[0m \u001b[0;31m# erro, tipos incompatíveis com a operação\u001b[0m\u001b[0;34m\u001b[0m\u001b[0;34m\u001b[0m\u001b[0;34m\u001b[0m\u001b[0m\n\u001b[0;32m----> 2\u001b[0;31m \u001b[0mprint\u001b[0m\u001b[0;34m(\u001b[0m\u001b[0mtexto1\u001b[0m \u001b[0;34m+\u001b[0m \u001b[0mk\u001b[0m\u001b[0;34m)\u001b[0m\u001b[0;34m\u001b[0m\u001b[0;34m\u001b[0m\u001b[0m\n\u001b[0m",
            "\u001b[0;31mTypeError\u001b[0m: must be str, not int"
          ]
        }
      ]
    },
    {
      "cell_type": "markdown",
      "metadata": {
        "id": "fIQbflNdnBwh"
      },
      "source": [
        "## Experimente\n",
        "iii. Tente realizar várias operações ao mesmo tempo, por exemplo multiplicar 3 números de uma vez ou concatenar 4 strings\n",
        "\n",
        "iv. Tente realizar outras operações entre dados de tipos diferentes e ver o que acontece"
      ]
    },
    {
      "cell_type": "markdown",
      "metadata": {
        "id": "kBmqB4zqmmRZ"
      },
      "source": [
        "# 4. Conversão de Tipos"
      ]
    },
    {
      "cell_type": "code",
      "metadata": {
        "id": "s-OHbiqzndZA",
        "outputId": "ffa5bc9b-4b57-4d37-983e-75ac74435e21",
        "colab": {
          "base_uri": "https://localhost:8080/",
          "height": 90
        }
      },
      "source": [
        "# Você pode descobrir o tipo de uma variável usando a função type()\n",
        "print(type(idade))\n",
        "print(type(preco))\n",
        "print((type(mensagem)))\n",
        "print(type(situacao_regular))"
      ],
      "execution_count": 6,
      "outputs": [
        {
          "output_type": "stream",
          "text": [
            "<class 'int'>\n",
            "<class 'float'>\n",
            "<class 'str'>\n",
            "<class 'bool'>\n"
          ],
          "name": "stdout"
        }
      ]
    },
    {
      "cell_type": "code",
      "metadata": {
        "id": "dqowJ0yqnu6B",
        "outputId": "b301f0ba-623e-421e-f93e-d1e4ee40f1ba",
        "colab": {
          "base_uri": "https://localhost:8080/",
          "height": 35
        }
      },
      "source": [
        "# Use o nome do tipo para o qual deseja converter desta maneira\n",
        "# converter número em texto\n",
        "k_em_texto = str(k)\n",
        "print(texto1 + k_em_texto)"
      ],
      "execution_count": 7,
      "outputs": [
        {
          "output_type": "stream",
          "text": [
            "bicho5\n"
          ],
          "name": "stdout"
        }
      ]
    },
    {
      "cell_type": "code",
      "metadata": {
        "id": "ZlLrg-S9oXUO",
        "outputId": "0508db3f-b7de-4f92-f325-26c3ab730932",
        "colab": {
          "base_uri": "https://localhost:8080/",
          "height": 227
        }
      },
      "source": [
        "# concatenando textos - sim, os números estão na forma de texto, strings\n",
        "resultado = k_em_texto + '.28' \n",
        "print(resultado)\n",
        "\n",
        "# erro de operação\n",
        "print(resultado + 2)"
      ],
      "execution_count": 8,
      "outputs": [
        {
          "output_type": "stream",
          "text": [
            "5.28\n"
          ],
          "name": "stdout"
        },
        {
          "output_type": "error",
          "ename": "TypeError",
          "evalue": "ignored",
          "traceback": [
            "\u001b[0;31m---------------------------------------------------------------------------\u001b[0m",
            "\u001b[0;31mTypeError\u001b[0m                                 Traceback (most recent call last)",
            "\u001b[0;32m<ipython-input-8-3efd5242bb69>\u001b[0m in \u001b[0;36m<module>\u001b[0;34m()\u001b[0m\n\u001b[1;32m      4\u001b[0m \u001b[0;34m\u001b[0m\u001b[0m\n\u001b[1;32m      5\u001b[0m \u001b[0;31m# erro de operação\u001b[0m\u001b[0;34m\u001b[0m\u001b[0;34m\u001b[0m\u001b[0;34m\u001b[0m\u001b[0m\n\u001b[0;32m----> 6\u001b[0;31m \u001b[0mprint\u001b[0m\u001b[0;34m(\u001b[0m\u001b[0mresultado\u001b[0m \u001b[0;34m+\u001b[0m \u001b[0;36m2\u001b[0m\u001b[0;34m)\u001b[0m\u001b[0;34m\u001b[0m\u001b[0;34m\u001b[0m\u001b[0m\n\u001b[0m",
            "\u001b[0;31mTypeError\u001b[0m: must be str, not int"
          ]
        }
      ]
    },
    {
      "cell_type": "code",
      "metadata": {
        "id": "w8t7jmlEpElD",
        "outputId": "58d63560-a53b-4d0e-cd4e-7851b7882036",
        "colab": {
          "base_uri": "https://localhost:8080/",
          "height": 72
        }
      },
      "source": [
        "# convertendo texto para número fracionário (ponto flutuante)\n",
        "fracionario = float(resultado) + 2\n",
        "print(fracionario)\n",
        "# convertendo ponto flutuante para inteiro\n",
        "print(int(fracionario))\n",
        "\n",
        "#\n",
        "print('não é ' + texto1 + ' de ' + str(int(fracionario)) + ' ' + texto4)"
      ],
      "execution_count": 9,
      "outputs": [
        {
          "output_type": "stream",
          "text": [
            "7.28\n",
            "7\n",
            "não é bicho de 7 cabeças\n"
          ],
          "name": "stdout"
        }
      ]
    },
    {
      "cell_type": "markdown",
      "metadata": {
        "id": "J9luc0q0mLoT"
      },
      "source": [
        "## Experimente\n",
        "v. Tente realizar outras conversões entre tipos. O que acontece se você tentar converter \"biscoito\" em um número inteiro? E se converter True em ponto flutuante?"
      ]
    },
    {
      "cell_type": "markdown",
      "metadata": {
        "id": "JFxIUVqqqMnh"
      },
      "source": [
        "# 5. Controle de Fluxo (if, else, elif)"
      ]
    },
    {
      "cell_type": "code",
      "metadata": {
        "id": "nnoMzdQhrkQ_",
        "outputId": "87e26a19-77b6-4852-d4b4-74de93cc52a5",
        "colab": {
          "base_uri": "https://localhost:8080/",
          "height": 35
        }
      },
      "source": [
        "situacao_regular = True\n",
        "if situacao_regular:\n",
        "  print(\"Quite com as obrigações eleitorais\")"
      ],
      "execution_count": 10,
      "outputs": [
        {
          "output_type": "stream",
          "text": [
            "Quite com as obrigações eleitorais\n"
          ],
          "name": "stdout"
        }
      ]
    },
    {
      "cell_type": "code",
      "metadata": {
        "id": "vUq8d9hcr3Hp",
        "outputId": "408b14ad-bc0b-4014-c51a-e3ed8eb11b9d",
        "colab": {
          "base_uri": "https://localhost:8080/",
          "height": 35
        }
      },
      "source": [
        "situacao_regular = False\n",
        "if situacao_regular:\n",
        "  print(\"Quite com as obrigações eleitorais\")\n",
        "else:\n",
        "  print(\"Precisa regularizar sua situação!\")"
      ],
      "execution_count": 11,
      "outputs": [
        {
          "output_type": "stream",
          "text": [
            "Precisa regularizar sua situação!\n"
          ],
          "name": "stdout"
        }
      ]
    },
    {
      "cell_type": "markdown",
      "metadata": {
        "id": "eYl3dqxOsFBr"
      },
      "source": [
        "## Experimente\n",
        "vi. Tente trocar o valor da variável situacao_regular nas duas situações e observe o que acontece"
      ]
    },
    {
      "cell_type": "code",
      "metadata": {
        "id": "gb1iyvvZsVEd",
        "outputId": "30ce0651-e084-4e24-a2cf-1f35b253e52f",
        "colab": {
          "base_uri": "https://localhost:8080/",
          "height": 35
        }
      },
      "source": [
        "# precisamos passar uma condição que possa ser avaliada\n",
        "# como verdadeira ou falsa, um valor booleano\n",
        "idade = 18\n",
        "if idade >= 18:\n",
        "  print(\"é obrigado a votar\")"
      ],
      "execution_count": 12,
      "outputs": [
        {
          "output_type": "stream",
          "text": [
            "é obrigado a votar\n"
          ],
          "name": "stdout"
        }
      ]
    },
    {
      "cell_type": "code",
      "metadata": {
        "id": "n6OVLmwGso8y",
        "outputId": "7d070fdc-c177-41db-940a-3545532703c7",
        "colab": {
          "base_uri": "https://localhost:8080/",
          "height": 35
        }
      },
      "source": [
        "# essa condição pode ser mais complexa, \n",
        "# envolvendo a análise de várias proposições conectadas\n",
        "if idade >= 18 and idade <= 70:\n",
        "  print(\"é obrigado a votar\")"
      ],
      "execution_count": 13,
      "outputs": [
        {
          "output_type": "stream",
          "text": [
            "é obrigado a votar\n"
          ],
          "name": "stdout"
        }
      ]
    },
    {
      "cell_type": "code",
      "metadata": {
        "id": "D8rU131as5Gj",
        "outputId": "a00400c2-18e7-4dfc-8a9e-857ee00b1949",
        "colab": {
          "base_uri": "https://localhost:8080/",
          "height": 126
        }
      },
      "source": [
        "# resultado das operações lógicas de E (and) e OU (or)\n",
        "print(\"Verdade E Verdade:\", True and True)\n",
        "print(\"Verdade E Falso:\", True and False) # a ordem não importa\n",
        "print(\"False E False:\", False and False)\n",
        "print(\"Verdade OU Verdade:\", True or True)\n",
        "print(\"Verdade OU False:\", True or False)\n",
        "print(\"False OU False:\", False or False)"
      ],
      "execution_count": 14,
      "outputs": [
        {
          "output_type": "stream",
          "text": [
            "Verdade E Verdade: True\n",
            "Verdade E Falso: False\n",
            "False E False: False\n",
            "Verdade OU Verdade: True\n",
            "Verdade OU False: True\n",
            "False OU False: False\n"
          ],
          "name": "stdout"
        }
      ]
    },
    {
      "cell_type": "code",
      "metadata": {
        "id": "ihyTIUkZtvbH",
        "outputId": "a167a2d6-00cb-4aa2-92fd-33b8468e2356",
        "colab": {
          "base_uri": "https://localhost:8080/",
          "height": 35
        }
      },
      "source": [
        "# É possível especificar o que acontece caso a condição não seja satisfeita\n",
        "idade = 17\n",
        "if idade >= 18 and idade <= 70:\n",
        "  print(\"é obrigado a votar\")\n",
        "else:\n",
        "  print(\"não é orbigado a votar\")"
      ],
      "execution_count": 15,
      "outputs": [
        {
          "output_type": "stream",
          "text": [
            "não é orbigado a votar\n"
          ],
          "name": "stdout"
        }
      ]
    },
    {
      "cell_type": "code",
      "metadata": {
        "id": "lpSZE8KpuGHN",
        "outputId": "725a4681-d4b1-4f8c-b28d-02135fa15bf7",
        "colab": {
          "base_uri": "https://localhost:8080/",
          "height": 35
        }
      },
      "source": [
        "# Se precisar analisar mais condições, use elif (contração de else + if)\n",
        "idade = 15\n",
        "if idade >= 18 and idade <= 70:\n",
        "  print(\"É obrigado a votar\")\n",
        "elif idade >= 16:\n",
        "  pribt(\"Voto é facultativo\")\n",
        "else:\n",
        "  print(\"NÃO pode votar!\")"
      ],
      "execution_count": 16,
      "outputs": [
        {
          "output_type": "stream",
          "text": [
            "NÃO pode votar!\n"
          ],
          "name": "stdout"
        }
      ]
    },
    {
      "cell_type": "markdown",
      "metadata": {
        "id": "4LBoQf6OukUZ"
      },
      "source": [
        "## Experimente\n",
        "vii. Tente mudar os valores de idade e verificar se a resposta está condizente com o que você espera"
      ]
    },
    {
      "cell_type": "markdown",
      "metadata": {
        "id": "RjJ-LqlRu44q"
      },
      "source": [
        "# 6. Função input - Entrada de Dados"
      ]
    },
    {
      "cell_type": "code",
      "metadata": {
        "id": "DHKPEvVFu-4Q",
        "outputId": "f200262c-59b6-4668-c058-2ef03b5c05ff",
        "colab": {
          "base_uri": "https://localhost:8080/",
          "height": 54
        }
      },
      "source": [
        "# Receba dados do usuário - deve digitar e pressionar ENTER\n",
        "dado_do_usuario = input()\n",
        "print(dado_do_usuario)"
      ],
      "execution_count": 17,
      "outputs": [
        {
          "output_type": "stream",
          "text": [
            "Aprenda Python do Jeito Certo!\n",
            "Aprenda Python do Jeito Certo!\n"
          ],
          "name": "stdout"
        }
      ]
    },
    {
      "cell_type": "code",
      "metadata": {
        "id": "qQdkQanMvWqz",
        "outputId": "b9510a1c-c4d0-4cf5-e092-261f9627829e",
        "colab": {
          "base_uri": "https://localhost:8080/",
          "height": 54
        }
      },
      "source": [
        "# especifique o que deve ser digitado\n",
        "numero = input(\"Digite um número: \")\n",
        "print(\"Número digitado foi\", numero)"
      ],
      "execution_count": 18,
      "outputs": [
        {
          "output_type": "stream",
          "text": [
            "Digite um número: 77\n",
            "Número digitado foi 77\n"
          ],
          "name": "stdout"
        }
      ]
    },
    {
      "cell_type": "code",
      "metadata": {
        "id": "6IdC_xcKvm2h",
        "outputId": "04ccae84-c802-40c7-e60d-352bed8ef44f",
        "colab": {
          "base_uri": "https://localhost:8080/",
          "height": 191
        }
      },
      "source": [
        "# todo input entra no programa como string!\n",
        "print(numero + 4)"
      ],
      "execution_count": 19,
      "outputs": [
        {
          "output_type": "error",
          "ename": "TypeError",
          "evalue": "ignored",
          "traceback": [
            "\u001b[0;31m---------------------------------------------------------------------------\u001b[0m",
            "\u001b[0;31mTypeError\u001b[0m                                 Traceback (most recent call last)",
            "\u001b[0;32m<ipython-input-19-488c5a8d5b00>\u001b[0m in \u001b[0;36m<module>\u001b[0;34m()\u001b[0m\n\u001b[1;32m      1\u001b[0m \u001b[0;31m# todo input entra no programa como string!\u001b[0m\u001b[0;34m\u001b[0m\u001b[0;34m\u001b[0m\u001b[0;34m\u001b[0m\u001b[0m\n\u001b[0;32m----> 2\u001b[0;31m \u001b[0mprint\u001b[0m\u001b[0;34m(\u001b[0m\u001b[0mnumero\u001b[0m \u001b[0;34m+\u001b[0m \u001b[0;36m4\u001b[0m\u001b[0;34m)\u001b[0m\u001b[0;34m\u001b[0m\u001b[0;34m\u001b[0m\u001b[0m\n\u001b[0m",
            "\u001b[0;31mTypeError\u001b[0m: must be str, not int"
          ]
        }
      ]
    },
    {
      "cell_type": "code",
      "metadata": {
        "id": "KeHFsPwkvynE",
        "outputId": "017acc96-a572-4697-e9b9-e1b0b0dae197",
        "colab": {
          "base_uri": "https://localhost:8080/",
          "height": 35
        }
      },
      "source": [
        "# você pode converter pro tipo desejado\n",
        "numero = int(numero)\n",
        "print(numero + 4)"
      ],
      "execution_count": 20,
      "outputs": [
        {
          "output_type": "stream",
          "text": [
            "81\n"
          ],
          "name": "stdout"
        }
      ]
    },
    {
      "cell_type": "markdown",
      "metadata": {
        "id": "DeJpjWa9xGGU"
      },
      "source": [
        "## Experimente\n",
        "viii. Tente rodar o programa que avalia a obrigatoriedade do voto perguntando a idade do usuário."
      ]
    },
    {
      "cell_type": "markdown",
      "metadata": {
        "id": "7TJrL2b0wBrO"
      },
      "source": [
        "# 7 Formatação de Strings"
      ]
    },
    {
      "cell_type": "code",
      "metadata": {
        "id": "_oL0DtXVwI5f",
        "outputId": "b50ac24e-a3f8-4f38-a3cd-6068e63c874c",
        "colab": {
          "base_uri": "https://localhost:8080/",
          "height": 54
        }
      },
      "source": [
        "# repare na conversão\n",
        "num_cabecas = float(input('Quantas cabeças tem o bicho? '))\n",
        "# cabeças se multiplicaram :O\n",
        "num_cabecas = int(2 * num_cabecas)\n",
        "\n",
        "# inserindo uma variável no meio do texto\n",
        "print(f'Bicho de {num_cabecas} cabeças!')"
      ],
      "execution_count": 21,
      "outputs": [
        {
          "output_type": "stream",
          "text": [
            "Quantas cabeças tem o bicho? 3.9\n",
            "Bicho de 7 cabeças!\n"
          ],
          "name": "stdout"
        }
      ]
    },
    {
      "cell_type": "markdown",
      "metadata": {
        "id": "Ofh9IqyyxVb0"
      },
      "source": [
        "## Experimente\n",
        "ix. Tente escrever frases com muitas variáveis no meio do texto"
      ]
    },
    {
      "cell_type": "markdown",
      "metadata": {
        "id": "UKRDvFp1sTU6"
      },
      "source": [
        "\n",
        "\n",
        "---\n",
        "\n"
      ]
    },
    {
      "cell_type": "markdown",
      "metadata": {
        "id": "MXBZwmTjuw6e"
      },
      "source": [
        "# Exercícios\n",
        "\n",
        "1.   Escreva um programa que recebe um número inteiro do usuário e responde se esse número é primo ou não. Um número é dito primo se ele é divisível apenas por 1 e por si mesmo.\n",
        "2.   Reescreva o programa que avalia a obrigatoriedade do voto de outra forma, mas mantendo as 3 respostas corretas (obrigatório, facultativo, proibido).\n",
        "\n",
        "No Hackerrank, você também encontra alguns exercícios bem simples como nossos experimentos.Caso nunca tenha usado a plataforma Hackerrank, sugerimos assistir a este vídeo para conhecer: https://www.youtube.com/embed/pYMcPfrrJP8\n",
        "\n",
        "\n",
        "1.   https://www.hackerrank.com/challenges/py-hello-world/problem\n",
        "2.   https://www.hackerrank.com/challenges/python-arithmetic-operators/problem\n",
        "3. https://www.hackerrank.com/challenges/python-division/problem\n",
        "\n",
        "\n",
        "## Mini projetos\n",
        "### P1 Área do Triângulo!\n",
        "\n",
        "Nosso objetivo é fazer um programa que receba 3 valores que representem lados de um triângulo e, então, responda qual a área deste triângulo.\n",
        "\n",
        "Você pode calcular a área de um triângulo a partir da medida de seus lados utilizando a <a href=\"https://pt.wikipedia.org/wiki/Teorema_de_Her%C3%A3o\" target=\"blank\">fórmula de Heron</a>. Você pode calcular a raiz quadrada de um número elevando ele a 1/2 (meio) — lembre-se que em Python a potenciação pode ser feita com o operador \\*\\*. \n",
        "\n",
        "Ex: 4**(1/2) resulta em 2.0.\n",
        "\n",
        "Repare que não é qualquer combinação de 3 valores que pode representar lados de um triângulo (<a href=\"https://mundoeducacao.uol.com.br/matematica/condicao-existencia-um-triangulo.htm\">condição de existência de um triângulo</a>) . Caso os números recebidos não possam ser usados como lados de um triângulo, seu programa deve informar isso ao usuário.\n",
        "\n",
        "### P2 Pedra, Papel e Tesoura!\n",
        "\n",
        " **Nosso objetivo é implementar o jogo \"Pedra, Papel e Tesoura\"**, utilizando a linha de comando.\n",
        "\n",
        "O jogo é bem simples. Teremos 2 jogadores que deverão escolher entre *pedra*, *papel* ou *tesoura*. Após ambos terem escolhido com qual objeto jogar, deve-se declarar o resultado segundo as regras seguintes:\n",
        "\n",
        "I. Pedra vence Tesoura.\n",
        "\n",
        "II. Tesoura vence Papel.\n",
        "\n",
        "III. Papel vence Pedra.\n",
        "\n",
        "IV. Quando ambos são iguais, temos um empate.\n",
        "\n",
        "Na vida real, ambos os jogadores escolhem ao mesmo tempo, mostrando suas mãos. Ainda não sabemos como fazer isso, então nosso programa vai funcionar da seguinte maneira:\n",
        "\n",
        "I.   Ao executar o programa, ele deve escrever o nome do jogo e pedir que o jogador 1 faça sua escolha.\n",
        "\n",
        "II.  O programa aguarda o jogador 1 digitar sua escolha e pressionar *Enter*\n",
        "\n",
        "III. O programa pede que o jogador 2 digite sua escolha\n",
        "\n",
        "IV.  O programa aguarda o jogador 2 digitar sua escolha e pressionar *Enter*\n",
        "\n",
        "V.   O programa analisa as 2 escolhas e declara o campeão ou um empate\n",
        "\n",
        "Obs: O jogador 1 está em clara desvantagem, pois o jogador 2 escolhe já sabendo como ganhar. Não se preocupe com isso agora, mantenha o foco na correta interpretação dos resultados. Poderemos corrigir esta desvantagem quando aprendermos a usar alguns módulos da linguagem.\n",
        "\n"
      ]
    }
  ]
}