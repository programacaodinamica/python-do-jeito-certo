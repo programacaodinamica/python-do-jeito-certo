{
  "nbformat": 4,
  "nbformat_minor": 0,
  "metadata": {
    "colab": {
      "name": "LIVE 1.ipynb",
      "provenance": [],
      "authorship_tag": "ABX9TyP4dLH9qabTldhn4+96XyFy",
      "include_colab_link": true
    },
    "kernelspec": {
      "name": "python3",
      "display_name": "Python 3"
    }
  },
  "cells": [
    {
      "cell_type": "markdown",
      "metadata": {
        "id": "view-in-github",
        "colab_type": "text"
      },
      "source": [
        "<a href=\"https://colab.research.google.com/github/programacaodinamica/python-do-jeito-certo/blob/main/aulas/LIVE_1.ipynb\" target=\"_parent\"><img src=\"https://colab.research.google.com/assets/colab-badge.svg\" alt=\"Open In Colab\"/></a>"
      ]
    },
    {
      "cell_type": "code",
      "metadata": {
        "id": "ysSGG8uOIe4i"
      },
      "source": [
        "Se idade maior ou igual a 18 e idade menor ou igual a 70\n",
        "então é obrigado a votar"
      ],
      "execution_count": null,
      "outputs": []
    },
    {
      "cell_type": "code",
      "metadata": {
        "id": "PlSReVaVKsVG"
      },
      "source": [
        "idade = 17\n",
        "if idade >= 18 and idade <= 70:\n",
        "  print(\"é obrigado a votar\")"
      ],
      "execution_count": null,
      "outputs": []
    },
    {
      "cell_type": "markdown",
      "metadata": {
        "id": "FPrrWArANVk8"
      },
      "source": [
        "# Variáveis"
      ]
    },
    {
      "cell_type": "code",
      "metadata": {
        "id": "uMJllWNvNl7J",
        "outputId": "9cc5fa8e-cc96-4cbf-c018-6c95f70a3dde",
        "colab": {
          "base_uri": "https://localhost:8080/",
          "height": 88
        }
      },
      "source": [
        "# int integer - inteiro\n",
        "dia = 19\n",
        "# float floating point - ponto flutuante\n",
        "valor = 42.9\n",
        "# str string - texto\n",
        "mensagem = 'sou uma string'\n",
        "# bool boolean - booleano\n",
        "situacao_regular = True\n",
        "\n",
        "print(dia)\n",
        "print(valor)\n",
        "print(mensagem)\n",
        "print(situacao_regular)"
      ],
      "execution_count": null,
      "outputs": [
        {
          "output_type": "stream",
          "text": [
            "19\n",
            "42.9\n",
            "sou uma string\n",
            "True\n"
          ],
          "name": "stdout"
        }
      ]
    },
    {
      "cell_type": "code",
      "metadata": {
        "id": "wSOryy9QREZ7",
        "outputId": "383a4981-209b-4b93-d383-6b9b6fbcaff9",
        "colab": {
          "base_uri": "https://localhost:8080/",
          "height": 70
        }
      },
      "source": [
        "situacao_regular = True\n",
        "if situacao_regular:\n",
        "  # se a condição for verdadeira será executado\n",
        "  print(\"Passou na condição\")\n",
        "  print(7 + 15)\n",
        "else:\n",
        "  print(\"caso a condição seja falsa\")\n",
        "\n",
        "print(\"fora do if\")"
      ],
      "execution_count": null,
      "outputs": [
        {
          "output_type": "stream",
          "text": [
            "Passou na condição\n",
            "22\n",
            "fora do if\n"
          ],
          "name": "stdout"
        }
      ]
    },
    {
      "cell_type": "code",
      "metadata": {
        "id": "2XeVdU6iTaJZ"
      },
      "source": [
        "#if (True and True):\n",
        "if True"
      ],
      "execution_count": null,
      "outputs": []
    },
    {
      "cell_type": "code",
      "metadata": {
        "id": "TFuTWtAtSsDJ",
        "outputId": "a99bcf7f-771f-4d76-bc75-15b91c827956",
        "colab": {
          "base_uri": "https://localhost:8080/",
          "height": 35
        }
      },
      "source": [
        "idade = 16\n",
        "if idade >= 18 and idade <= 70:\n",
        "  print(\"é obrigado a votar\")\n",
        "else:\n",
        "  print(\"NÃO é obrigado a votar\")"
      ],
      "execution_count": null,
      "outputs": [
        {
          "output_type": "stream",
          "text": [
            "NÃO é obrigado a votar\n"
          ],
          "name": "stdout"
        }
      ]
    },
    {
      "cell_type": "code",
      "metadata": {
        "id": "jXMhJOpgVCZ4",
        "outputId": "9a9320d5-9f9e-429b-8776-c9df1338f584",
        "colab": {
          "base_uri": "https://localhost:8080/",
          "height": 35
        }
      },
      "source": [
        "idade = 14\n",
        "if idade >= 18 and idade <= 70:\n",
        "  print(\"é obrigado a votar\")\n",
        "elif idade >= 16 or idade > 70:\n",
        "  print(\"Voto facultativo\")\n",
        "else:\n",
        "  print(\"NÃO pode votar\")"
      ],
      "execution_count": null,
      "outputs": [
        {
          "output_type": "stream",
          "text": [
            "NÃO pode votar\n"
          ],
          "name": "stdout"
        }
      ]
    },
    {
      "cell_type": "code",
      "metadata": {
        "id": "1n5pKE8oYe6A",
        "outputId": "e6fb59b6-6580-4aa9-fb28-2ab4de4f75bc",
        "colab": {
          "base_uri": "https://localhost:8080/",
          "height": 205
        }
      },
      "source": [
        "numero = input('Digite um número: ')\n",
        "print(4 + numero)"
      ],
      "execution_count": null,
      "outputs": [
        {
          "output_type": "stream",
          "text": [
            "Digite um número: 8\n"
          ],
          "name": "stdout"
        },
        {
          "output_type": "error",
          "ename": "TypeError",
          "evalue": "ignored",
          "traceback": [
            "\u001b[0;31m---------------------------------------------------------------------------\u001b[0m",
            "\u001b[0;31mTypeError\u001b[0m                                 Traceback (most recent call last)",
            "\u001b[0;32m<ipython-input-37-72de0a78b78e>\u001b[0m in \u001b[0;36m<module>\u001b[0;34m()\u001b[0m\n\u001b[1;32m      1\u001b[0m \u001b[0mnumero\u001b[0m \u001b[0;34m=\u001b[0m \u001b[0minput\u001b[0m\u001b[0;34m(\u001b[0m\u001b[0;34m'Digite um número: '\u001b[0m\u001b[0;34m)\u001b[0m\u001b[0;34m\u001b[0m\u001b[0;34m\u001b[0m\u001b[0m\n\u001b[0;32m----> 2\u001b[0;31m \u001b[0mprint\u001b[0m\u001b[0;34m(\u001b[0m\u001b[0;36m4\u001b[0m \u001b[0;34m+\u001b[0m \u001b[0mnumero\u001b[0m\u001b[0;34m)\u001b[0m\u001b[0;34m\u001b[0m\u001b[0;34m\u001b[0m\u001b[0m\n\u001b[0m",
            "\u001b[0;31mTypeError\u001b[0m: unsupported operand type(s) for +: 'int' and 'str'"
          ]
        }
      ]
    },
    {
      "cell_type": "code",
      "metadata": {
        "id": "nzmt93spZzJc",
        "outputId": "b158ae7b-416f-4f74-baf3-d786628d6160",
        "colab": {
          "base_uri": "https://localhost:8080/",
          "height": 35
        }
      },
      "source": [
        "print('abacaxi' + 'raposa')"
      ],
      "execution_count": null,
      "outputs": [
        {
          "output_type": "stream",
          "text": [
            "abacaxiraposa\n"
          ],
          "name": "stdout"
        }
      ]
    },
    {
      "cell_type": "code",
      "metadata": {
        "id": "jphMDuDhapph",
        "outputId": "0bc9d1de-cf00-465a-b4f7-82b01008291f",
        "colab": {
          "base_uri": "https://localhost:8080/",
          "height": 52
        }
      },
      "source": [
        "# conversão entre tipos\n",
        "numero = int(True)\n",
        "print(numero // 5)\n",
        "print(numero % 5)"
      ],
      "execution_count": null,
      "outputs": [
        {
          "output_type": "stream",
          "text": [
            "0\n",
            "1\n"
          ],
          "name": "stdout"
        }
      ]
    },
    {
      "cell_type": "code",
      "metadata": {
        "id": "4RC4l9Wyb9BS",
        "outputId": "2b91790f-4e08-4cfc-b47d-4955dd8a65fb",
        "colab": {
          "base_uri": "https://localhost:8080/",
          "height": 52
        }
      },
      "source": [
        "idade = input('Digite sua idade: ')\n",
        "idade = int(idade)\n",
        "\n",
        "if idade >= 18 and idade <= 70:\n",
        "  print(\"É obrigado a votar\")\n",
        "elif idade >= 16:\n",
        "  print(\"Voto facultativo\")\n",
        "else:\n",
        "  print(\"NÃO pode votar\")"
      ],
      "execution_count": null,
      "outputs": [
        {
          "output_type": "stream",
          "text": [
            "Digite sua idade: 12\n",
            "NÃO pode votar\n"
          ],
          "name": "stdout"
        }
      ]
    },
    {
      "cell_type": "code",
      "metadata": {
        "id": "8IicKikohDBJ",
        "outputId": "523eba6a-846f-45aa-c1c3-290278e3cf22",
        "colab": {
          "base_uri": "https://localhost:8080/",
          "height": 70
        }
      },
      "source": [
        "idade = 20\n",
        "print(\"Com \" + str(idade) + \" anos é obrigado a votar\")\n",
        "print(idade, \" anos é obrigado a votar\", \"teste\")\n",
        "print(f\"Com {idade} anos é obrigado a votar\")"
      ],
      "execution_count": null,
      "outputs": [
        {
          "output_type": "stream",
          "text": [
            "Com 20 anos é obrigado a votar\n",
            "20  anos é obrigado a votar teste\n",
            "Com 20 anos é obrigado a votar\n"
          ],
          "name": "stdout"
        }
      ]
    },
    {
      "cell_type": "code",
      "metadata": {
        "id": "RDJk6q_DiMWq",
        "outputId": "a522c31f-f4ab-41f8-ed2b-e2d5c090b5c0",
        "colab": {
          "base_uri": "https://localhost:8080/",
          "height": 52
        }
      },
      "source": [
        "idade = input('Digite sua idade: ')\n",
        "idade = int(idade)\n",
        "\n",
        "if idade >= 18 and idade < 70:\n",
        "  print(f\"Com {idade} anos, o voto é obrigatório\")\n",
        "elif idade >= 16:\n",
        "  print(f\"Com {idade} anos, o voto é facultativo\")\n",
        "else:\n",
        "  print(f\"Com {idade} anos, você NÃO pode votar\")"
      ],
      "execution_count": null,
      "outputs": [
        {
          "output_type": "stream",
          "text": [
            "Digite sua idade: 70\n",
            "Com 70 anos, o voto é facultativo\n"
          ],
          "name": "stdout"
        }
      ]
    }
  ]
}